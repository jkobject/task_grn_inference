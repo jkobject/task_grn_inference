{
 "cells": [
  {
   "cell_type": "code",
   "execution_count": 1,
   "metadata": {},
   "outputs": [],
   "source": [
    "import anndata as ad "
   ]
  },
  {
   "cell_type": "code",
   "execution_count": 2,
   "metadata": {},
   "outputs": [
    {
     "name": "stderr",
     "output_type": "stream",
     "text": [
      "/home/jnourisa/miniconda3/envs/py10/lib/python3.10/site-packages/anndata/__init__.py:52: FutureWarning: `anndata.read` is deprecated, use `anndata.read_h5ad` instead. `ad.read` will be removed in mid 2024.\n",
      "  warnings.warn(\n"
     ]
    }
   ],
   "source": [
    "adata = ad.read('resources/grn_benchmark//inference_data/op_atac.h5ad')"
   ]
  },
  {
   "cell_type": "code",
   "execution_count": 4,
   "metadata": {},
   "outputs": [
    {
     "data": {
      "text/html": [
       "<div>\n",
       "<style scoped>\n",
       "    .dataframe tbody tr th:only-of-type {\n",
       "        vertical-align: middle;\n",
       "    }\n",
       "\n",
       "    .dataframe tbody tr th {\n",
       "        vertical-align: top;\n",
       "    }\n",
       "\n",
       "    .dataframe thead th {\n",
       "        text-align: right;\n",
       "    }\n",
       "</style>\n",
       "<table border=\"1\" class=\"dataframe\">\n",
       "  <thead>\n",
       "    <tr style=\"text-align: right;\">\n",
       "      <th></th>\n",
       "      <th>seqname</th>\n",
       "      <th>ranges</th>\n",
       "      <th>strand</th>\n",
       "    </tr>\n",
       "    <tr>\n",
       "      <th>location</th>\n",
       "      <th></th>\n",
       "      <th></th>\n",
       "      <th></th>\n",
       "    </tr>\n",
       "  </thead>\n",
       "  <tbody>\n",
       "    <tr>\n",
       "      <th>chr1:9785-10672</th>\n",
       "      <td>chr1</td>\n",
       "      <td>9785-10672</td>\n",
       "      <td>+</td>\n",
       "    </tr>\n",
       "    <tr>\n",
       "      <th>chr1:180537-181293</th>\n",
       "      <td>chr1</td>\n",
       "      <td>180537-181293</td>\n",
       "      <td>+</td>\n",
       "    </tr>\n",
       "    <tr>\n",
       "      <th>chr1:183952-184816</th>\n",
       "      <td>chr1</td>\n",
       "      <td>183952-184816</td>\n",
       "      <td>+</td>\n",
       "    </tr>\n",
       "    <tr>\n",
       "      <th>chr1:191200-192081</th>\n",
       "      <td>chr1</td>\n",
       "      <td>191200-192081</td>\n",
       "      <td>+</td>\n",
       "    </tr>\n",
       "    <tr>\n",
       "      <th>chr1:267572-268456</th>\n",
       "      <td>chr1</td>\n",
       "      <td>267572-268456</td>\n",
       "      <td>+</td>\n",
       "    </tr>\n",
       "    <tr>\n",
       "      <th>...</th>\n",
       "      <td>...</td>\n",
       "      <td>...</td>\n",
       "      <td>...</td>\n",
       "    </tr>\n",
       "    <tr>\n",
       "      <th>KI270713.1:3945-4846</th>\n",
       "      <td>KI270713.1</td>\n",
       "      <td>3945-4846</td>\n",
       "      <td>+</td>\n",
       "    </tr>\n",
       "    <tr>\n",
       "      <th>KI270713.1:21464-22377</th>\n",
       "      <td>KI270713.1</td>\n",
       "      <td>21464-22377</td>\n",
       "      <td>+</td>\n",
       "    </tr>\n",
       "    <tr>\n",
       "      <th>KI270713.1:27714-28535</th>\n",
       "      <td>KI270713.1</td>\n",
       "      <td>27714-28535</td>\n",
       "      <td>+</td>\n",
       "    </tr>\n",
       "    <tr>\n",
       "      <th>KI270713.1:29650-30500</th>\n",
       "      <td>KI270713.1</td>\n",
       "      <td>29650-30500</td>\n",
       "      <td>+</td>\n",
       "    </tr>\n",
       "    <tr>\n",
       "      <th>KI270713.1:36928-37830</th>\n",
       "      <td>KI270713.1</td>\n",
       "      <td>36928-37830</td>\n",
       "      <td>+</td>\n",
       "    </tr>\n",
       "  </tbody>\n",
       "</table>\n",
       "<p>135418 rows × 3 columns</p>\n",
       "</div>"
      ],
      "text/plain": [
       "                           seqname         ranges strand\n",
       "location                                                \n",
       "chr1:9785-10672               chr1     9785-10672      +\n",
       "chr1:180537-181293            chr1  180537-181293      +\n",
       "chr1:183952-184816            chr1  183952-184816      +\n",
       "chr1:191200-192081            chr1  191200-192081      +\n",
       "chr1:267572-268456            chr1  267572-268456      +\n",
       "...                            ...            ...    ...\n",
       "KI270713.1:3945-4846    KI270713.1      3945-4846      +\n",
       "KI270713.1:21464-22377  KI270713.1    21464-22377      +\n",
       "KI270713.1:27714-28535  KI270713.1    27714-28535      +\n",
       "KI270713.1:29650-30500  KI270713.1    29650-30500      +\n",
       "KI270713.1:36928-37830  KI270713.1    36928-37830      +\n",
       "\n",
       "[135418 rows x 3 columns]"
      ]
     },
     "execution_count": 4,
     "metadata": {},
     "output_type": "execute_result"
    }
   ],
   "source": [
    "adata.var"
   ]
  }
 ],
 "metadata": {
  "language_info": {
   "name": "python"
  }
 },
 "nbformat": 4,
 "nbformat_minor": 2
}
